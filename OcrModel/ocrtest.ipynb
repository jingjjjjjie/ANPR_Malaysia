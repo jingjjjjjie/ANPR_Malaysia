{
 "cells": [
  {
   "cell_type": "code",
   "execution_count": 2,
   "id": "e0f266a3",
   "metadata": {},
   "outputs": [
    {
     "name": "stdout",
     "output_type": "stream",
     "text": [
      "Original (conf: 0.67)\n",
      "Sharpening (conf: 1.00)\n",
      "25 (conf: 1.00)\n",
      "WP32 (conf: 0.08)\n",
      "VP3za (conf: 0.09)\n",
      "100 (conf: 1.00)\n",
      "100 (conf: 1.00)\n"
     ]
    }
   ],
   "source": [
    "import easyocr\n",
    "\n",
    "reader = easyocr.Reader(['en']) \n",
    "\n",
    "# Run OCR on an image\n",
    "results = reader.readtext('sharp.png')\n",
    "\n",
    "# Print all detected text\n",
    "for (bbox, text, confidence) in results:\n",
    "    print(f\"{text} (conf: {confidence:.2f})\")"
   ]
  },
  {
   "cell_type": "code",
   "execution_count": null,
   "id": "312cd157",
   "metadata": {},
   "outputs": [],
   "source": [
    "def predict_image():\n",
    "    pass"
   ]
  },
  {
   "cell_type": "code",
   "execution_count": null,
   "id": "838ff8a8",
   "metadata": {},
   "outputs": [],
   "source": [
    "def crop_by_bounding_box():\n",
    "    pass"
   ]
  },
  {
   "cell_type": "code",
   "execution_count": null,
   "id": "b02f0624",
   "metadata": {},
   "outputs": [],
   "source": []
  }
 ],
 "metadata": {
  "kernelspec": {
   "display_name": "yolo",
   "language": "python",
   "name": "python3"
  },
  "language_info": {
   "codemirror_mode": {
    "name": "ipython",
    "version": 3
   },
   "file_extension": ".py",
   "mimetype": "text/x-python",
   "name": "python",
   "nbconvert_exporter": "python",
   "pygments_lexer": "ipython3",
   "version": "3.9.24"
  }
 },
 "nbformat": 4,
 "nbformat_minor": 5
}
