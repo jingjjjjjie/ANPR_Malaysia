{
 "cells": [
  {
   "cell_type": "code",
   "execution_count": 8,
   "id": "000fa6ef",
   "metadata": {},
   "outputs": [
    {
     "name": "stdout",
     "output_type": "stream",
     "text": [
      "Ultralytics 8.3.222  Python-3.9.24 torch-2.8.0+cu126 CUDA:0 (NVIDIA GeForce RTX 3060, 8192MiB)\n",
      "Model summary (fused): 72 layers, 3,005,843 parameters, 0 gradients, 8.1 GFLOPs\n",
      "\u001b[34m\u001b[1mval: \u001b[0mFast image access  (ping: 0.00.0 ms, read: 89.071.8 MB/s, size: 623.2 KB)\n",
      "\u001b[K\u001b[34m\u001b[1mval: \u001b[0mScanning C:\\Users\\hengz\\Desktop\\Plate\\dataset\\V4_Validation_currated\\valid\\labels... 74 images, 0 backgrounds, 0 corrupt: 100% ━━━━━━━━━━━━ 74/74 855.3it/s 0.1s\n",
      "\u001b[34m\u001b[1mval: \u001b[0mNew cache created: C:\\Users\\hengz\\Desktop\\Plate\\dataset\\V4_Validation_currated\\valid\\labels.cache\n",
      "\u001b[K                 Class     Images  Instances      Box(P          R      mAP50  mAP50-95): 100% ━━━━━━━━━━━━ 5/5 0.9it/s 5.5s0.9ss\n",
      "                   all         74        115      0.852      0.854      0.886      0.513\n",
      "Speed: 18.2ms preprocess, 9.4ms inference, 0.0ms loss, 1.3ms postprocess per image\n",
      "Results saved to \u001b[1mC:\\Users\\hengz\\Desktop\\Plate\\PlateDetector\\runs\\detect\\val4\u001b[0m\n"
     ]
    }
   ],
   "source": [
    "from ultralytics import YOLO\n",
    "\n",
    "MODEL_PATH = \"../runs/plates/v3_RainyKlNight_SupplimentaryMorning_TaxiEV/weights/best.pt\"\n",
    "IMG_DIR    = \"../dataset/V4_Validation_currated/valid/images/\"\n",
    "\n",
    "model = YOLO(MODEL_PATH)\n",
    "\n",
    "# 1) Validate on the 'val' split from your dataset YAML\n",
    "metrics = model.val(\n",
    "    data=\"../dataset/V4_Validation_currated/data.yaml\",  \n",
    "    split=\"val\",           \n",
    "    imgsz=1280,\n",
    "    batch=16,\n",
    "    conf=0.25,            \n",
    "    iou=0.7,               # NMS IoU (not the mAP IoU metric!)\n",
    "    device=0,              # or 'cpu'\n",
    "    half=True,             # if supported\n",
    "    plots=True,            # save PR curves, confusion matrix, etc.\n",
    "    save_json=False        # True for COCO json (if coco-format)\n",
    ")\n",
    "\n"
   ]
  }
 ],
 "metadata": {
  "kernelspec": {
   "display_name": "yolo",
   "language": "python",
   "name": "python3"
  },
  "language_info": {
   "codemirror_mode": {
    "name": "ipython",
    "version": 3
   },
   "file_extension": ".py",
   "mimetype": "text/x-python",
   "name": "python",
   "nbconvert_exporter": "python",
   "pygments_lexer": "ipython3",
   "version": "3.9.24"
  }
 },
 "nbformat": 4,
 "nbformat_minor": 5
}
