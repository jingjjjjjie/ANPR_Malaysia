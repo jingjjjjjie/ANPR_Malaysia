{
 "cells": [
  {
   "cell_type": "markdown",
   "id": "e5c57f1a",
   "metadata": {},
   "source": [
    "Get prediction metrics, confusion matrix, auc and f1 plot"
   ]
  },
  {
   "cell_type": "code",
   "execution_count": 2,
   "id": "000fa6ef",
   "metadata": {},
   "outputs": [
    {
     "name": "stdout",
     "output_type": "stream",
     "text": [
      "Ultralytics 8.3.223  Python-3.9.24 torch-2.8.0+cu126 CPU (Intel Core i5-10400F 2.90GHz)\n",
      "Model summary (fused): 72 layers, 3,005,843 parameters, 0 gradients, 8.1 GFLOPs\n",
      "\u001b[34m\u001b[1mval: \u001b[0mFast image access  (ping: 0.00.0 ms, read: 548.4194.7 MB/s, size: 320.6 KB)\n",
      "\u001b[K\u001b[34m\u001b[1mval: \u001b[0mScanning C:\\Users\\Qwerty\\Desktop\\ANPR_Malaysia\\dataset\\merged_currated\\valid\\labels.cache... 73 images, 0 backgrounds, 0 corrupt: 100% ━━━━━━━━━━━━ 73/73  0.0s\n",
      "\u001b[K                 Class     Images  Instances      Box(P          R      mAP50  mAP50-95): 100% ━━━━━━━━━━━━ 5/5 0.2it/s 20.0s6.0ss\n",
      "                   all         73        114      0.905      0.877      0.931      0.546\n",
      "Speed: 5.2ms preprocess, 238.1ms inference, 0.0ms loss, 0.8ms postprocess per image\n",
      "Results saved to \u001b[1mC:\\Users\\Qwerty\\runs\\detect\\val13\u001b[0m\n"
     ]
    }
   ],
   "source": [
    "from ultralytics import YOLO\n",
    "\n",
    "model = YOLO('weights/v3_best.pt')\n",
    "\n",
    "# 1) Validate on the 'val' split from your dataset YAML\n",
    "metrics = model.val(\n",
    "    data=\"../dataset/merged_currated/data.yaml\",  \n",
    "    split=\"val\",  # we evaluate with the validation set        \n",
    "    imgsz=1280,   # higher imgsz yields better result for fine grained / smaller objects\n",
    "    batch=16,     # batch size depends on your gpu, set to larger for gpu with more vram \n",
    "    conf=0.60,    # the min confidence rate for the results, you can experiment with different values     \n",
    "    device=0,     # set to 'cpu' if using cpu         \n",
    "    plots=True,   # save PR curves, confusion matrix, etc.\n",
    "    half=False    # use FP16 quantization, disable FP16 if it causes issues\n",
    ")"
   ]
  },
  {
   "cell_type": "markdown",
   "id": "71a07751",
   "metadata": {},
   "source": [
    "Visualize the predictions (Side by side)"
   ]
  },
  {
   "cell_type": "code",
   "execution_count": null,
   "id": "2105f8f7",
   "metadata": {},
   "outputs": [],
   "source": [
    "from ultralytics import YOLO\n",
    "import cv2, os, numpy as np\n",
    "import matplotlib.pyplot as plt\n",
    "\n",
    "model = YOLO(\"weights/v3_best.pt\") #change your desired weights here\n",
    "images_dir = '../dataset/merged_currated/valid/images/'  #change your dataset here\n",
    "labels_dir = '../dataset/merged_currated/valid/labels/'  #change your dataset here\n",
    "conf, imgsz = 0.60, 1280\n",
    "device = 0\n",
    "\n",
    "results = model.predict(source=images_dir, conf=conf, imgsz=imgsz, stream=True, verbose=False, device=device)\n",
    "\n",
    "for r in results:\n",
    "    img = cv2.imread(r.path)\n",
    "    if img is None:\n",
    "        print(f\"Can't read: {r.path}\")\n",
    "        continue\n",
    "    h, w = img.shape[:2]\n",
    "\n",
    "    gt = img.copy()\n",
    "    label_path = os.path.join(labels_dir, os.path.splitext(os.path.basename(r.path))[0] + \".txt\")\n",
    "    if os.path.exists(label_path):\n",
    "        for line in open(label_path):\n",
    "            _, xc, yc, bw, bh = map(float, line.split())\n",
    "            x1, y1 = int((xc-bw/2)*w), int((yc-bh/2)*h)\n",
    "            x2, y2 = int((xc+bw/2)*w), int((yc+bh/2)*h)\n",
    "            cv2.rectangle(gt, (x1,y1), (x2,y2), (0,255,0), 2)\n",
    "    pred = r.plot()\n",
    "\n",
    "    combined = np.hstack((gt, pred))\n",
    "    plt.imshow(cv2.cvtColor(combined, cv2.COLOR_BGR2RGB))\n",
    "    plt.title(\"Ground Truth (Left) | Prediction (Right)\")\n",
    "    plt.axis('off')\n",
    "    plt.show()\n"
   ]
  }
 ],
 "metadata": {
  "kernelspec": {
   "display_name": "yolo",
   "language": "python",
   "name": "python3"
  },
  "language_info": {
   "codemirror_mode": {
    "name": "ipython",
    "version": 3
   },
   "file_extension": ".py",
   "mimetype": "text/x-python",
   "name": "python",
   "nbconvert_exporter": "python",
   "pygments_lexer": "ipython3",
   "version": "3.9.24"
  }
 },
 "nbformat": 4,
 "nbformat_minor": 5
}
